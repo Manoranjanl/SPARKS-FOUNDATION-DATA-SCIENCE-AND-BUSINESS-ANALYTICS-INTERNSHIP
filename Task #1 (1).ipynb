{
 "cells": [
  {
   "cell_type": "markdown",
   "id": "d420d483",
   "metadata": {},
   "source": [
    "# THE SPARKS FOUNDATION\n",
    "\n",
    "**Data Science and Business Analytics Internship**\n",
    "\n",
    "**Task-1: PREDICTION USING SUPERVISED ML**\n",
    "\n",
    "Predict the percentage of a student score based on the no. of study hours using Python/R/SAS\n"
   ]
  },
  {
   "cell_type": "markdown",
   "id": "9bd7c688",
   "metadata": {},
   "source": [
    "**Importing packages:**"
   ]
  },
  {
   "cell_type": "code",
   "execution_count": 2,
   "id": "6eef40a1",
   "metadata": {},
   "outputs": [],
   "source": [
    "import pandas as pd\n",
    "import numpy as np\n",
    "import matplotlib.pyplot as plt"
   ]
  },
  {
   "cell_type": "markdown",
   "id": "3d4ea44e",
   "metadata": {},
   "source": [
    "**Reading the file:**"
   ]
  },
  {
   "cell_type": "code",
   "execution_count": 4,
   "id": "7ed6914f",
   "metadata": {},
   "outputs": [
    {
     "data": {
      "text/html": [
       "<div>\n",
       "<style scoped>\n",
       "    .dataframe tbody tr th:only-of-type {\n",
       "        vertical-align: middle;\n",
       "    }\n",
       "\n",
       "    .dataframe tbody tr th {\n",
       "        vertical-align: top;\n",
       "    }\n",
       "\n",
       "    .dataframe thead th {\n",
       "        text-align: right;\n",
       "    }\n",
       "</style>\n",
       "<table border=\"1\" class=\"dataframe\">\n",
       "  <thead>\n",
       "    <tr style=\"text-align: right;\">\n",
       "      <th></th>\n",
       "      <th>Hours</th>\n",
       "      <th>Scores</th>\n",
       "    </tr>\n",
       "  </thead>\n",
       "  <tbody>\n",
       "    <tr>\n",
       "      <th>0</th>\n",
       "      <td>2.5</td>\n",
       "      <td>21</td>\n",
       "    </tr>\n",
       "    <tr>\n",
       "      <th>1</th>\n",
       "      <td>5.1</td>\n",
       "      <td>47</td>\n",
       "    </tr>\n",
       "    <tr>\n",
       "      <th>2</th>\n",
       "      <td>3.2</td>\n",
       "      <td>27</td>\n",
       "    </tr>\n",
       "    <tr>\n",
       "      <th>3</th>\n",
       "      <td>8.5</td>\n",
       "      <td>75</td>\n",
       "    </tr>\n",
       "    <tr>\n",
       "      <th>4</th>\n",
       "      <td>3.5</td>\n",
       "      <td>30</td>\n",
       "    </tr>\n",
       "    <tr>\n",
       "      <th>5</th>\n",
       "      <td>1.5</td>\n",
       "      <td>20</td>\n",
       "    </tr>\n",
       "    <tr>\n",
       "      <th>6</th>\n",
       "      <td>9.2</td>\n",
       "      <td>88</td>\n",
       "    </tr>\n",
       "    <tr>\n",
       "      <th>7</th>\n",
       "      <td>5.5</td>\n",
       "      <td>60</td>\n",
       "    </tr>\n",
       "    <tr>\n",
       "      <th>8</th>\n",
       "      <td>8.3</td>\n",
       "      <td>81</td>\n",
       "    </tr>\n",
       "    <tr>\n",
       "      <th>9</th>\n",
       "      <td>2.7</td>\n",
       "      <td>25</td>\n",
       "    </tr>\n",
       "    <tr>\n",
       "      <th>10</th>\n",
       "      <td>7.7</td>\n",
       "      <td>85</td>\n",
       "    </tr>\n",
       "    <tr>\n",
       "      <th>11</th>\n",
       "      <td>5.9</td>\n",
       "      <td>62</td>\n",
       "    </tr>\n",
       "    <tr>\n",
       "      <th>12</th>\n",
       "      <td>4.5</td>\n",
       "      <td>41</td>\n",
       "    </tr>\n",
       "    <tr>\n",
       "      <th>13</th>\n",
       "      <td>3.3</td>\n",
       "      <td>42</td>\n",
       "    </tr>\n",
       "    <tr>\n",
       "      <th>14</th>\n",
       "      <td>1.1</td>\n",
       "      <td>17</td>\n",
       "    </tr>\n",
       "    <tr>\n",
       "      <th>15</th>\n",
       "      <td>8.9</td>\n",
       "      <td>95</td>\n",
       "    </tr>\n",
       "    <tr>\n",
       "      <th>16</th>\n",
       "      <td>2.5</td>\n",
       "      <td>30</td>\n",
       "    </tr>\n",
       "    <tr>\n",
       "      <th>17</th>\n",
       "      <td>1.9</td>\n",
       "      <td>24</td>\n",
       "    </tr>\n",
       "    <tr>\n",
       "      <th>18</th>\n",
       "      <td>6.1</td>\n",
       "      <td>67</td>\n",
       "    </tr>\n",
       "    <tr>\n",
       "      <th>19</th>\n",
       "      <td>7.4</td>\n",
       "      <td>69</td>\n",
       "    </tr>\n",
       "    <tr>\n",
       "      <th>20</th>\n",
       "      <td>2.7</td>\n",
       "      <td>30</td>\n",
       "    </tr>\n",
       "    <tr>\n",
       "      <th>21</th>\n",
       "      <td>4.8</td>\n",
       "      <td>54</td>\n",
       "    </tr>\n",
       "    <tr>\n",
       "      <th>22</th>\n",
       "      <td>3.8</td>\n",
       "      <td>35</td>\n",
       "    </tr>\n",
       "    <tr>\n",
       "      <th>23</th>\n",
       "      <td>6.9</td>\n",
       "      <td>76</td>\n",
       "    </tr>\n",
       "    <tr>\n",
       "      <th>24</th>\n",
       "      <td>7.8</td>\n",
       "      <td>86</td>\n",
       "    </tr>\n",
       "  </tbody>\n",
       "</table>\n",
       "</div>"
      ],
      "text/plain": [
       "    Hours  Scores\n",
       "0     2.5      21\n",
       "1     5.1      47\n",
       "2     3.2      27\n",
       "3     8.5      75\n",
       "4     3.5      30\n",
       "5     1.5      20\n",
       "6     9.2      88\n",
       "7     5.5      60\n",
       "8     8.3      81\n",
       "9     2.7      25\n",
       "10    7.7      85\n",
       "11    5.9      62\n",
       "12    4.5      41\n",
       "13    3.3      42\n",
       "14    1.1      17\n",
       "15    8.9      95\n",
       "16    2.5      30\n",
       "17    1.9      24\n",
       "18    6.1      67\n",
       "19    7.4      69\n",
       "20    2.7      30\n",
       "21    4.8      54\n",
       "22    3.8      35\n",
       "23    6.9      76\n",
       "24    7.8      86"
      ]
     },
     "execution_count": 4,
     "metadata": {},
     "output_type": "execute_result"
    }
   ],
   "source": [
    "link = \"http://bit.ly/w-data\"\n",
    "dataset= pd.read_csv(link)\n",
    "dataset"
   ]
  },
  {
   "cell_type": "markdown",
   "id": "23145223",
   "metadata": {},
   "source": [
    "**Visualizing the dataset:**\n",
    "\n",
    "We Plot the distribution of scores:"
   ]
  },
  {
   "cell_type": "code",
   "execution_count": 5,
   "id": "815a1063",
   "metadata": {},
   "outputs": [
    {
     "data": {
      "image/png": "[encoded data removed]",
      "text/plain": [
       "<Figure size 432x288 with 1 Axes>"
      ]
     },
     "metadata": {
      "needs_background": "light"
     },
     "output_type": "display_data"
    }
   ],
   "source": [
    "dataset.plot(x='Hours',y='Scores',style='+',color='red')\n",
    "plt.title('Hours vs Scores')\n",
    "plt.xlabel('HOURS STUDIED')\n",
    "plt.ylabel('SCORES OBTAINED')\n",
    "plt.show()"
   ]
  },
  {
   "cell_type": "markdown",
   "id": "3de01a2f",
   "metadata": {},
   "source": [
    "**Assigning values to the dependent and independent variable:**"
   ]
  },
  {
   "cell_type": "code",
   "execution_count": 6,
   "id": "b98dc4fd",
   "metadata": {},
   "outputs": [
    {
     "name": "stdout",
     "output_type": "stream",
     "text": [
      "[[2.5]\n",
      " [5.1]\n",
      " [3.2]\n",
      " [8.5]\n",
      " [3.5]\n",
      " [1.5]\n",
      " [9.2]\n",
      " [5.5]\n",
      " [8.3]\n",
      " [2.7]\n",
      " [7.7]\n",
      " [5.9]\n",
      " [4.5]\n",
      " [3.3]\n",
      " [1.1]\n",
      " [8.9]\n",
      " [2.5]\n",
      " [1.9]\n",
      " [6.1]\n",
      " [7.4]\n",
      " [2.7]\n",
      " [4.8]\n",
      " [3.8]\n",
      " [6.9]\n",
      " [7.8]]\n",
      "[21 47 27 75 30 20 88 60 81 25 85 62 41 42 17 95 30 24 67 69 30 54 35 76\n",
      " 86]\n",
      "<class 'numpy.ndarray'>\n",
      "<class 'numpy.ndarray'>\n"
     ]
    }
   ],
   "source": [
    "x=dataset.iloc[:,:-1].values\n",
    "y=dataset.iloc[:,1].values\n",
    "print(x)\n",
    "print(y)\n",
    "print(type(x))\n",
    "print(type(y))"
   ]
  },
  {
   "cell_type": "markdown",
   "id": "504b9a95",
   "metadata": {},
   "source": [
    "**Splitting the dataset into tranining and testing set:**"
   ]
  },
  {
   "cell_type": "code",
   "execution_count": 7,
   "id": "f16140da",
   "metadata": {},
   "outputs": [],
   "source": [
    "from sklearn.model_selection import train_test_split\n",
    "x_train, x_test,y_train,y_test=train_test_split(x,y,test_size=0.2,random_state=0)"
   ]
  },
  {
   "cell_type": "markdown",
   "id": "020e0452",
   "metadata": {},
   "source": [
    "**No. of columns and rows the dataset has split into training and testing data:**"
   ]
  },
  {
   "cell_type": "code",
   "execution_count": 8,
   "id": "6f6b0710",
   "metadata": {
    "scrolled": true
   },
   "outputs": [
    {
     "name": "stdout",
     "output_type": "stream",
     "text": [
      "(20, 1)\n",
      "(20, 1)\n",
      "(5, 1)\n",
      "(5, 1)\n"
     ]
    }
   ],
   "source": [
    "x_train = np.reshape(x_train,(-1,1))\n",
    "x_test = np.reshape(x_test,(-1,1))\n",
    "y_train = np.reshape(y_train,(-1,1))\n",
    "y_test = np.reshape(y_test,(-1,1))\n",
    "print(x_train .shape)\n",
    "print(y_train.shape)\n",
    "print(x_test.shape)\n",
    "print(y_test.shape)"
   ]
  },
  {
   "cell_type": "markdown",
   "id": "8006f8e7",
   "metadata": {},
   "source": [
    "**Training the algorithm:**"
   ]
  },
  {
   "cell_type": "code",
   "execution_count": 9,
   "id": "f1db59ef",
   "metadata": {},
   "outputs": [
    {
     "name": "stdout",
     "output_type": "stream",
     "text": [
      "[[9.91065648]]\n",
      "[2.01816004]\n"
     ]
    }
   ],
   "source": [
    "from sklearn.linear_model import LinearRegression\n",
    "regressor=LinearRegression()\n",
    "regressor.fit(x_train,y_train)\n",
    "print(regressor.coef_)\n",
    "print(regressor.intercept_)\n"
   ]
  },
  {
   "cell_type": "markdown",
   "id": "a6899fcd",
   "metadata": {},
   "source": [
    "**Predict from the fit model:**"
   ]
  },
  {
   "cell_type": "code",
   "execution_count": 10,
   "id": "dc4857b1",
   "metadata": {},
   "outputs": [
    {
     "name": "stdout",
     "output_type": "stream",
     "text": [
      "[[1.5]\n",
      " [3.2]\n",
      " [7.4]\n",
      " [2.5]\n",
      " [5.9]]\n"
     ]
    }
   ],
   "source": [
    "y_pred=regressor.predict(x_test)\n",
    "print(x_test)"
   ]
  },
  {
   "cell_type": "code",
   "execution_count": 11,
   "id": "0aac410f",
   "metadata": {},
   "outputs": [
    {
     "name": "stdout",
     "output_type": "stream",
     "text": [
      "Predicted: [16.88414476] Actual: [20]\n",
      "Predicted: [33.73226078] Actual: [27]\n",
      "Predicted: [75.357018] Actual: [69]\n",
      "Predicted: [26.79480124] Actual: [30]\n",
      "Predicted: [60.49103328] Actual: [62]\n"
     ]
    }
   ],
   "source": [
    "for i in range(0,len(y_pred)):\n",
    "    print(\"Predicted:\",y_pred[i],\"Actual:\",y_test[i])\n",
    "\n"
   ]
  },
  {
   "cell_type": "markdown",
   "id": "ff4f2a23",
   "metadata": {},
   "source": [
    "**Ploting the regression line:**"
   ]
  },
  {
   "cell_type": "code",
   "execution_count": 12,
   "id": "60a0de82",
   "metadata": {},
   "outputs": [
    {
     "data": {
      "image/png": "[encoded data removed]",
      "text/plain": [
       "<Figure size 432x288 with 1 Axes>"
      ]
     },
     "metadata": {
      "needs_background": "light"
     },
     "output_type": "display_data"
    }
   ],
   "source": [
    "plt.scatter(x_train,y_train,color='black')\n",
    "plt.plot(x_train,regressor.predict(x_train),color='green')\n",
    "plt.title('Hours studied vs Scores obtained')\n",
    "plt.xlabel('Hours studied')\n",
    "plt.ylabel('Scores obtained')\n",
    "plt.show()"
   ]
  },
  {
   "cell_type": "markdown",
   "id": "0bdd54d8",
   "metadata": {},
   "source": [
    " **What will be the Predicted score if the student studies for 9.2hrs/day?:**"
   ]
  },
  {
   "cell_type": "code",
   "execution_count": 13,
   "id": "294f2c37",
   "metadata": {},
   "outputs": [
    {
     "name": "stdout",
     "output_type": "stream",
     "text": [
      "NO OF HOURS=9.25\n",
      "PREDICTED SCORE=[93.69173249]\n"
     ]
    }
   ],
   "source": [
    "no_hours=9.25\n",
    "pred_score=regressor.predict([[no_hours]])\n",
    "print(\"NO OF HOURS={}\".format(no_hours))\n",
    "print(\"PREDICTED SCORE={}\".format(pred_score[0]))"
   ]
  },
  {
   "cell_type": "markdown",
   "id": "b6059b21",
   "metadata": {},
   "source": [
    "**Evaluating the model:**"
   ]
  },
  {
   "cell_type": "code",
   "execution_count": 14,
   "id": "d6cd20c4",
   "metadata": {},
   "outputs": [
    {
     "name": "stdout",
     "output_type": "stream",
     "text": [
      "MEAN ABSOLUTE ERROR: 4.183859899002975\n",
      "MEAN SQUARED ERROR: 21.5987693072174\n",
      "MEAN ABSOLUTE ERROR: 4.6474476121003665\n"
     ]
    }
   ],
   "source": [
    "from sklearn import metrics\n",
    "print(\"MEAN ABSOLUTE ERROR:\",metrics.mean_absolute_error(y_test,y_pred))\n",
    "print(\"MEAN SQUARED ERROR:\",metrics.mean_squared_error(y_test,y_pred))\n",
    "print(\"MEAN ABSOLUTE ERROR:\",np.sqrt(metrics.mean_squared_error(y_test,y_pred)))\n"
   ]
  },
  {
   "cell_type": "code",
   "execution_count": 15,
   "id": "2a6edb85",
   "metadata": {},
   "outputs": [
    {
     "name": "stdout",
     "output_type": "stream",
     "text": [
      "TASK-1 COMPLETE!\n"
     ]
    }
   ],
   "source": [
    "print(\"TASK-1 COMPLETE!\")"
   ]
  }
 ],
 "metadata": {
  "kernelspec": {
   "display_name": "Python 3",
   "language": "python",
   "name": "python3"
  },
  "language_info": {
   "codemirror_mode": {
    "name": "ipython",
    "version": 3
   },
   "file_extension": ".py",
   "mimetype": "text/x-python",
   "name": "python",
   "nbconvert_exporter": "python",
   "pygments_lexer": "ipython3",
   "version": "3.8.8"
  }
 },
 "nbformat": 4,
 "nbformat_minor": 5
}
